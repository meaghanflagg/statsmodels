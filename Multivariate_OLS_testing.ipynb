{
 "cells": [
  {
   "cell_type": "markdown",
   "metadata": {
    "toc": true
   },
   "source": [
    "<h1>Table of Contents<span class=\"tocSkip\"></span></h1>\n",
    "<div class=\"toc\"><ul class=\"toc-item\"><li><span><a href=\"#Import-Sample-data:\" data-toc-modified-id=\"Import-Sample-data:-1\"><span class=\"toc-item-num\">1&nbsp;&nbsp;</span>Import Sample data:</a></span></li><li><span><a href=\"#Setup-multivariate-linear-models\" data-toc-modified-id=\"Setup-multivariate-linear-models-2\"><span class=\"toc-item-num\">2&nbsp;&nbsp;</span>Setup multivariate linear models</a></span></li><li><span><a href=\"#Confirm-identical-coef/params-for-statsmodels-vs-sklearn:\" data-toc-modified-id=\"Confirm-identical-coef/params-for-statsmodels-vs-sklearn:-3\"><span class=\"toc-item-num\">3&nbsp;&nbsp;</span>Confirm identical coef/params for statsmodels vs sklearn:</a></span><ul class=\"toc-item\"><li><span><a href=\"#Validate-calculation-of-squared-sum-of-residuals-(SSR):\" data-toc-modified-id=\"Validate-calculation-of-squared-sum-of-residuals-(SSR):-3.1\"><span class=\"toc-item-num\">3.1&nbsp;&nbsp;</span>Validate calculation of squared sum of residuals (SSR):</a></span><ul class=\"toc-item\"><li><span><a href=\"#SSR-(residual-sum-of-squares)-vs-MSE-(mean-squared-error):\" data-toc-modified-id=\"SSR-(residual-sum-of-squares)-vs-MSE-(mean-squared-error):-3.1.1\"><span class=\"toc-item-num\">3.1.1&nbsp;&nbsp;</span>SSR (residual sum of squares) vs MSE (mean squared error):</a></span></li></ul></li></ul></li><li><span><a href=\"#Confirm-class-attributes-are-accurate-for-multivariate-models-created-with-or-without-a-formula-or-constant:\" data-toc-modified-id=\"Confirm-class-attributes-are-accurate-for-multivariate-models-created-with-or-without-a-formula-or-constant:-4\"><span class=\"toc-item-num\">4&nbsp;&nbsp;</span>Confirm class attributes are accurate for multivariate models created with or without a formula or constant:</a></span></li><li><span><a href=\"#Validate-statistical-calculations-with-univariate-models:\" data-toc-modified-id=\"Validate-statistical-calculations-with-univariate-models:-5\"><span class=\"toc-item-num\">5&nbsp;&nbsp;</span>Validate statistical calculations with univariate models:</a></span><ul class=\"toc-item\"><li><span><a href=\"#Validate-log-likelihood-calculation:\" data-toc-modified-id=\"Validate-log-likelihood-calculation:-5.1\"><span class=\"toc-item-num\">5.1&nbsp;&nbsp;</span>Validate log likelihood calculation:</a></span></li><li><span><a href=\"#Validate-AIC-calculation\" data-toc-modified-id=\"Validate-AIC-calculation-5.2\"><span class=\"toc-item-num\">5.2&nbsp;&nbsp;</span>Validate AIC calculation</a></span></li></ul></li><li><span><a href=\"#Validate-model-stats-against-R:\" data-toc-modified-id=\"Validate-model-stats-against-R:-6\"><span class=\"toc-item-num\">6&nbsp;&nbsp;</span>Validate model stats against R:</a></span></li><li><span><a href=\"#Validate-implementation-of-F-test\" data-toc-modified-id=\"Validate-implementation-of-F-test-7\"><span class=\"toc-item-num\">7&nbsp;&nbsp;</span>Validate implementation of F test</a></span><ul class=\"toc-item\"><li><span><a href=\"#Calculate-the-F-statistic-using-residual-sum-of-squares:\" data-toc-modified-id=\"Calculate-the-F-statistic-using-residual-sum-of-squares:-7.1\"><span class=\"toc-item-num\">7.1&nbsp;&nbsp;</span>Calculate the F statistic using residual sum of squares:</a></span></li><li><span><a href=\"#Compare-with-sm.stats.anova_lm()\" data-toc-modified-id=\"Compare-with-sm.stats.anova_lm()-7.2\"><span class=\"toc-item-num\">7.2&nbsp;&nbsp;</span>Compare with sm.stats.anova_lm()</a></span></li><li><span><a href=\"#Validate-F-test-works-with-multivariate-models:\" data-toc-modified-id=\"Validate-F-test-works-with-multivariate-models:-7.3\"><span class=\"toc-item-num\">7.3&nbsp;&nbsp;</span>Validate F test works with multivariate models:</a></span></li><li><span><a href=\"#Compare-F-test-calculation-with-R:\" data-toc-modified-id=\"Compare-F-test-calculation-with-R:-7.4\"><span class=\"toc-item-num\">7.4&nbsp;&nbsp;</span>Compare F test calculation with R:</a></span></li></ul></li><li><span><a href=\"#How-to-implement-MANOVA\" data-toc-modified-id=\"How-to-implement-MANOVA-8\"><span class=\"toc-item-num\">8&nbsp;&nbsp;</span>How to implement MANOVA</a></span><ul class=\"toc-item\"><li><span><a href=\"#Compare-statsmodels-MANOVA-with-R:\" data-toc-modified-id=\"Compare-statsmodels-MANOVA-with-R:-8.1\"><span class=\"toc-item-num\">8.1&nbsp;&nbsp;</span>Compare statsmodels MANOVA with R:</a></span></li></ul></li><li><span><a href=\"#Forward-stepwise-model-selection\" data-toc-modified-id=\"Forward-stepwise-model-selection-9\"><span class=\"toc-item-num\">9&nbsp;&nbsp;</span>Forward stepwise model selection</a></span></li></ul></div>"
   ]
  },
  {
   "cell_type": "markdown",
   "metadata": {},
   "source": [
    "# Multivariate OLS\n",
    "Author : Meaghan Flagg  \n",
    "Purpose : implementing and testing summary statistics and F-test for multivariate OLS"
   ]
  },
  {
   "cell_type": "code",
   "execution_count": 1,
   "metadata": {},
   "outputs": [],
   "source": [
    "import numpy as np\n",
    "import pandas as pd\n",
    "import scipy.stats as stats\n",
    "import sklearn.linear_model as lm\n",
    "from sklearn.metrics import r2_score, mean_squared_error\n",
    "import statsmodels.api as sm\n",
    "import statsmodels.multivariate.manova as manova"
   ]
  },
  {
   "cell_type": "code",
   "execution_count": 2,
   "metadata": {},
   "outputs": [],
   "source": [
    "import statsmodels.multivariate.multivariate_ols # autoreload doesn't work with import x as y"
   ]
  },
  {
   "cell_type": "code",
   "execution_count": 3,
   "metadata": {},
   "outputs": [],
   "source": [
    "%load_ext autoreload\n",
    "%autoreload 2"
   ]
  },
  {
   "cell_type": "markdown",
   "metadata": {},
   "source": [
    "## Import Sample data:"
   ]
  },
  {
   "cell_type": "code",
   "execution_count": 4,
   "metadata": {},
   "outputs": [
    {
     "data": {
      "text/html": [
       "<div>\n",
       "<style scoped>\n",
       "    .dataframe tbody tr th:only-of-type {\n",
       "        vertical-align: middle;\n",
       "    }\n",
       "\n",
       "    .dataframe tbody tr th {\n",
       "        vertical-align: top;\n",
       "    }\n",
       "\n",
       "    .dataframe thead th {\n",
       "        text-align: right;\n",
       "    }\n",
       "</style>\n",
       "<table border=\"1\" class=\"dataframe\">\n",
       "  <thead>\n",
       "    <tr style=\"text-align: right;\">\n",
       "      <th></th>\n",
       "      <th>mpg</th>\n",
       "      <th>cyl</th>\n",
       "      <th>disp</th>\n",
       "      <th>hp</th>\n",
       "      <th>drat</th>\n",
       "      <th>wt</th>\n",
       "      <th>qsec</th>\n",
       "      <th>vs</th>\n",
       "      <th>am</th>\n",
       "      <th>gear</th>\n",
       "      <th>carb</th>\n",
       "    </tr>\n",
       "  </thead>\n",
       "  <tbody>\n",
       "    <tr>\n",
       "      <th>Mazda RX4</th>\n",
       "      <td>21.0</td>\n",
       "      <td>6</td>\n",
       "      <td>160.0</td>\n",
       "      <td>110</td>\n",
       "      <td>3.90</td>\n",
       "      <td>2.620</td>\n",
       "      <td>16.46</td>\n",
       "      <td>0</td>\n",
       "      <td>1</td>\n",
       "      <td>4</td>\n",
       "      <td>4</td>\n",
       "    </tr>\n",
       "    <tr>\n",
       "      <th>Mazda RX4 Wag</th>\n",
       "      <td>21.0</td>\n",
       "      <td>6</td>\n",
       "      <td>160.0</td>\n",
       "      <td>110</td>\n",
       "      <td>3.90</td>\n",
       "      <td>2.875</td>\n",
       "      <td>17.02</td>\n",
       "      <td>0</td>\n",
       "      <td>1</td>\n",
       "      <td>4</td>\n",
       "      <td>4</td>\n",
       "    </tr>\n",
       "    <tr>\n",
       "      <th>Datsun 710</th>\n",
       "      <td>22.8</td>\n",
       "      <td>4</td>\n",
       "      <td>108.0</td>\n",
       "      <td>93</td>\n",
       "      <td>3.85</td>\n",
       "      <td>2.320</td>\n",
       "      <td>18.61</td>\n",
       "      <td>1</td>\n",
       "      <td>1</td>\n",
       "      <td>4</td>\n",
       "      <td>1</td>\n",
       "    </tr>\n",
       "    <tr>\n",
       "      <th>Hornet 4 Drive</th>\n",
       "      <td>21.4</td>\n",
       "      <td>6</td>\n",
       "      <td>258.0</td>\n",
       "      <td>110</td>\n",
       "      <td>3.08</td>\n",
       "      <td>3.215</td>\n",
       "      <td>19.44</td>\n",
       "      <td>1</td>\n",
       "      <td>0</td>\n",
       "      <td>3</td>\n",
       "      <td>1</td>\n",
       "    </tr>\n",
       "    <tr>\n",
       "      <th>Hornet Sportabout</th>\n",
       "      <td>18.7</td>\n",
       "      <td>8</td>\n",
       "      <td>360.0</td>\n",
       "      <td>175</td>\n",
       "      <td>3.15</td>\n",
       "      <td>3.440</td>\n",
       "      <td>17.02</td>\n",
       "      <td>0</td>\n",
       "      <td>0</td>\n",
       "      <td>3</td>\n",
       "      <td>2</td>\n",
       "    </tr>\n",
       "  </tbody>\n",
       "</table>\n",
       "</div>"
      ],
      "text/plain": [
       "                    mpg  cyl   disp   hp  drat     wt   qsec  vs  am  gear  \\\n",
       "Mazda RX4          21.0    6  160.0  110  3.90  2.620  16.46   0   1     4   \n",
       "Mazda RX4 Wag      21.0    6  160.0  110  3.90  2.875  17.02   0   1     4   \n",
       "Datsun 710         22.8    4  108.0   93  3.85  2.320  18.61   1   1     4   \n",
       "Hornet 4 Drive     21.4    6  258.0  110  3.08  3.215  19.44   1   0     3   \n",
       "Hornet Sportabout  18.7    8  360.0  175  3.15  3.440  17.02   0   0     3   \n",
       "\n",
       "                   carb  \n",
       "Mazda RX4             4  \n",
       "Mazda RX4 Wag         4  \n",
       "Datsun 710            1  \n",
       "Hornet 4 Drive        1  \n",
       "Hornet Sportabout     2  "
      ]
     },
     "execution_count": 4,
     "metadata": {},
     "output_type": "execute_result"
    }
   ],
   "source": [
    "cars = sm.datasets.get_rdataset(\"mtcars\").data\n",
    "cars.head()"
   ]
  },
  {
   "cell_type": "markdown",
   "metadata": {},
   "source": [
    "## Setup multivariate linear models\n",
    "Model 1/4 mile time and hp as a function of mpg, cylinders, and displacement:  \n",
    "` qsec + hp ~ mpg + cyl + disp`"
   ]
  },
  {
   "cell_type": "code",
   "execution_count": 5,
   "metadata": {},
   "outputs": [],
   "source": [
    "# using statsmodels multivariate OLS\n",
    "MOD = statsmodels.multivariate.multivariate_ols._MultivariateOLS.from_formula(\n",
    "    formula=\"qsec + hp ~ mpg + cyl + disp\", data=cars)\n",
    "mod = MOD.fit()"
   ]
  },
  {
   "cell_type": "code",
   "execution_count": 6,
   "metadata": {},
   "outputs": [],
   "source": [
    "# Model constructed without formula:\n",
    "X = cars[['mpg','cyl','disp']]\n",
    "Y = cars[['qsec','hp']]\n",
    "noformula_MOD = statsmodels.multivariate.multivariate_ols._MultivariateOLS(endog=Y, #exog=X)\n",
    "                                                exog=sm.add_constant(X))\n",
    "noformula_mod = noformula_MOD.fit()"
   ]
  },
  {
   "cell_type": "code",
   "execution_count": 7,
   "metadata": {},
   "outputs": [],
   "source": [
    "# Model without constant:\n",
    "X = cars[['mpg','cyl','disp']]\n",
    "Y = cars[['qsec','hp']]\n",
    "noConst_MOD = statsmodels.multivariate.multivariate_ols._MultivariateOLS(endog=Y, exog=X)\n",
    "\n",
    "noConst_mod = noConst_MOD.fit()"
   ]
  },
  {
   "cell_type": "markdown",
   "metadata": {},
   "source": [
    "## Confirm identical coef/params for statsmodels vs sklearn:\n",
    "I'll use p1, p2, p3 to indicate parameters (X variables) 1, 2, 3\n",
    "\n",
    "`_Multivariate_OLS.fit()` returns tuple of: `(params, df_resid, inv_cov, sscpr)`  \n",
    "What are each of these?  \n",
    "`params : calculated coefficient values for X vars (plus constant) for each Y var`  \n",
    "`df_resid : residual degrees of freedom. n - p - 1, if a constant is present. n - p if a constant is not included.`  \n",
    "`inv_cov : inverse covariance matrix`  \n",
    "`sscpr : possibly sum of squares and cross-products decomposition for the regression`  \n",
    "* the diagonals are sum of squares (for each Y var), corners are cross-products\n",
    "* access ssr via: `np.diagonal(mod._fittedmod[3])`"
   ]
  },
  {
   "cell_type": "code",
   "execution_count": 8,
   "metadata": {},
   "outputs": [],
   "source": [
    "# sklearn\n",
    "X = cars[['mpg','cyl','disp']]\n",
    "Y = cars[['qsec','hp']]\n",
    "\n",
    "# fitting intercept: can either add constant to X array, or set fit_intercept=True in regression call.\n",
    "reg = lm.LinearRegression(fit_intercept=True, normalize=True).fit(X,Y)"
   ]
  },
  {
   "cell_type": "code",
   "execution_count": 9,
   "metadata": {},
   "outputs": [
    {
     "name": "stdout",
     "output_type": "stream",
     "text": [
      "<class 'numpy.ndarray'>\n",
      "[[ 2.45534817e+01  4.92951014e+01]\n",
      " [-5.30029521e-02 -2.35788925e+00]\n",
      " [-1.15824380e+00  2.07718985e+01]\n",
      " [ 6.61733652e-03  7.03780053e-02]]\n"
     ]
    }
   ],
   "source": [
    "# statsmodels:\n",
    "print(type(mod._fittedmod[0]))\n",
    "print(mod._fittedmod[0])\n",
    "# shape\n",
    "#            Y1   Y2\n",
    "# intercept   .    .\n",
    "# p1          .    .\n",
    "# p2          .    .\n",
    "# p3          .    ."
   ]
  },
  {
   "cell_type": "code",
   "execution_count": 10,
   "metadata": {},
   "outputs": [
    {
     "name": "stdout",
     "output_type": "stream",
     "text": [
      "coefs\n",
      "<class 'numpy.ndarray'>\n",
      "[[-5.30029521e-02 -1.15824380e+00  6.61733652e-03]\n",
      " [-2.35788925e+00  2.07718985e+01  7.03780053e-02]]\n",
      "\n",
      "intercept\n",
      "<class 'numpy.ndarray'>\n",
      "[24.55348166 49.29510142]\n"
     ]
    }
   ],
   "source": [
    "# sklearn\n",
    "print(\"coefs\")\n",
    "print(type(reg.coef_))\n",
    "print(reg.coef_)\n",
    "# shape:\n",
    "#    p1   p2   p3\n",
    "# Y1  .   .    .\n",
    "# Y2  .   .    .\n",
    "\n",
    "print(\"\\nintercept\")\n",
    "print(type(reg.intercept_))\n",
    "print(reg.intercept_)\n",
    "# shape:\n",
    "# Y1  Y2"
   ]
  },
  {
   "cell_type": "markdown",
   "metadata": {},
   "source": [
    "1. coefficients are identical\n",
    "1. Intercepts are identical  \n",
    "\n",
    "Great.\n",
    "### Validate calculation of squared sum of residuals (SSR):\n",
    "access array of ssrs by `np.diagonal(mod._fittedmod[3])`"
   ]
  },
  {
   "cell_type": "code",
   "execution_count": 11,
   "metadata": {},
   "outputs": [
    {
     "data": {
      "text/plain": [
       "array([   58.35231457, 41982.82756707])"
      ]
     },
     "execution_count": 11,
     "metadata": {},
     "output_type": "execute_result"
    }
   ],
   "source": [
    "np.diagonal(mod._fittedmod[3])"
   ]
  },
  {
   "cell_type": "markdown",
   "metadata": {},
   "source": [
    "Options for aggregating ssr for each Y var:  \n",
    "1. uniform average\n",
    "2. weighted average\n",
    "\n",
    "I will follow the convention in `sklearn.metrics.mean_squared_error`:"
   ]
  },
  {
   "cell_type": "code",
   "execution_count": 12,
   "metadata": {
    "scrolled": true
   },
   "outputs": [
    {
     "name": "stdout",
     "output_type": "stream",
     "text": [
      "Mean squared error regression loss\n",
      "\n",
      "    Read more in the :ref:`User Guide <mean_squared_error>`.\n",
      "\n",
      "    Parameters\n",
      "    ----------\n",
      "    y_true : array-like of shape (n_samples,) or (n_samples, n_outputs)\n",
      "        Ground truth (correct) target values.\n",
      "\n",
      "    y_pred : array-like of shape (n_samples,) or (n_samples, n_outputs)\n",
      "        Estimated target values.\n",
      "\n",
      "    sample_weight : array-like of shape (n_samples,), optional\n",
      "        Sample weights.\n",
      "\n",
      "    multioutput : string in ['raw_values', 'uniform_average']                 or array-like of shape (n_outputs)\n",
      "        Defines aggregating of multiple output values.\n",
      "        Array-like value defines weights used to average errors.\n",
      "\n",
      "        'raw_values' :\n",
      "            Returns a full set of errors in case of multioutput input.\n",
      "\n",
      "        'uniform_average' :\n",
      "            Errors of all outputs are averaged with uniform weight.\n",
      "\n",
      "    squared : boolean value, optional (default = True)\n",
      "        If True returns MSE value, if False returns RMSE value.\n",
      "\n",
      "    Returns\n",
      "    -------\n",
      "    loss : float or ndarray of floats\n",
      "        A non-negative floating point value (the best value is 0.0), or an\n",
      "        array of floating point values, one for each individual target.\n",
      "\n",
      "    Examples\n",
      "    --------\n",
      "    >>> from sklearn.metrics import mean_squared_error\n",
      "    >>> y_true = [3, -0.5, 2, 7]\n",
      "    >>> y_pred = [2.5, 0.0, 2, 8]\n",
      "    >>> mean_squared_error(y_true, y_pred)\n",
      "    0.375\n",
      "    >>> y_true = [3, -0.5, 2, 7]\n",
      "    >>> y_pred = [2.5, 0.0, 2, 8]\n",
      "    >>> mean_squared_error(y_true, y_pred, squared=False)\n",
      "    0.612...\n",
      "    >>> y_true = [[0.5, 1],[-1, 1],[7, -6]]\n",
      "    >>> y_pred = [[0, 2],[-1, 2],[8, -5]]\n",
      "    >>> mean_squared_error(y_true, y_pred)\n",
      "    0.708...\n",
      "    >>> mean_squared_error(y_true, y_pred, squared=False)\n",
      "    0.822...\n",
      "    >>> mean_squared_error(y_true, y_pred, multioutput='raw_values')\n",
      "    array([0.41666667, 1.        ])\n",
      "    >>> mean_squared_error(y_true, y_pred, multioutput=[0.3, 0.7])\n",
      "    0.825...\n",
      "\n",
      "    \n"
     ]
    }
   ],
   "source": [
    "print(mean_squared_error.__doc__)"
   ]
  },
  {
   "cell_type": "markdown",
   "metadata": {},
   "source": [
    "#### SSR (residual sum of squares) vs MSE (mean squared error):\n",
    "$ ssr = MSE \\times nobs $  \n",
    "where `nobs = number of observations`\n"
   ]
  },
  {
   "cell_type": "code",
   "execution_count": 13,
   "metadata": {
    "scrolled": true
   },
   "outputs": [
    {
     "data": {
      "text/plain": [
       "21020.589940823113"
      ]
     },
     "execution_count": 13,
     "metadata": {},
     "output_type": "execute_result"
    }
   ],
   "source": [
    "np.mean(np.diagonal(mod._fittedmod[3]))"
   ]
  },
  {
   "cell_type": "code",
   "execution_count": 14,
   "metadata": {},
   "outputs": [
    {
     "data": {
      "text/plain": [
       "21020.589940823113"
      ]
     },
     "execution_count": 14,
     "metadata": {},
     "output_type": "execute_result"
    }
   ],
   "source": [
    "# test my implementation of ssr method in _MultivariateOLSResults class:\n",
    "mod.ssr()"
   ]
  },
  {
   "cell_type": "code",
   "execution_count": 15,
   "metadata": {},
   "outputs": [
    {
     "name": "stdout",
     "output_type": "stream",
     "text": [
      "[   58.35231457 41982.82756708]\n",
      "21020.589940825048\n"
     ]
    }
   ],
   "source": [
    "# confirm with sklearn mean_squared_error:\n",
    "Yhat = reg.predict(X)\n",
    "nobs=Y.shape[0]\n",
    "RSS_all = mean_squared_error(Y, Yhat, multioutput='raw_values') * nobs\n",
    "RSS_mean = mean_squared_error(Y, Yhat, multioutput='uniform_average') * nobs\n",
    "print(RSS_all)\n",
    "print(RSS_mean)"
   ]
  },
  {
   "cell_type": "markdown",
   "metadata": {},
   "source": [
    "Excellent, everything lines up."
   ]
  },
  {
   "cell_type": "markdown",
   "metadata": {},
   "source": [
    "## Confirm class attributes are accurate for multivariate models created with or without a formula or constant:\n",
    "**Note on how some attributes are calculated:**  \n",
    "`_Multivariate_OLS.fit()` returns tuple of: `(params, df_resid, inv_cov, sscpr)`  \n",
    "What are each of these?  \n",
    "`params : calculated coefficient values for X vars (plus constant) for each Y var`  \n",
    "`df_resid : residual degrees of freedom. n - p - 1, if a constant is present. n - p if a constant is not included.`  \n",
    "`inv_cov : inverse covariance matrix`  \n",
    "`sscpr : possibly sum of squares and cross-products decomposition for the regression`  \n",
    "* the diagonals are sum of squares (for each Y var), corners are cross-products\n",
    "* access ssr via: `np.diagonal(mod._fittedmod[3])`"
   ]
  },
  {
   "cell_type": "code",
   "execution_count": 16,
   "metadata": {},
   "outputs": [
    {
     "name": "stdout",
     "output_type": "stream",
     "text": [
      "<class 'statsmodels.multivariate.multivariate_ols._MultivariateOLSResults'>\n",
      "<class 'statsmodels.multivariate.multivariate_ols._MultivariateOLSResults'>\n"
     ]
    }
   ],
   "source": [
    "print(type(mod))\n",
    "print(type(noformula_mod))"
   ]
  },
  {
   "cell_type": "code",
   "execution_count": 17,
   "metadata": {},
   "outputs": [
    {
     "name": "stdout",
     "output_type": "stream",
     "text": [
      "\n",
      "    _MultivariateOLS results class\n",
      "\n",
      "    Attributes\n",
      "    ----------\n",
      "    params : 2d ndarray\n",
      "         coefficients of intercept (if fit) and exog variables for each endog variable\n",
      "    df_resid : int\n",
      "         residual degrees of freedom\n",
      "    hasconst : boolean\n",
      "         True if model was fit with a constant, else False.\n",
      "    formula : str\n",
      "         R-style formula from which model was constructed.\n",
      "    ssr : float or array of floats\n",
      "         residual sum of squares. See method docstring for additional info.\n",
      "    df_model : int\n",
      "         model degrees of freedom (including constant if fit)\n",
      "    loglike : float\n",
      "         Value of log-liklihood function.\n",
      "    AIC : float\n",
      "         Akaike's information criteria. See method docstring for additional info.\n",
      "         \n",
      "\n",
      "\n",
      "    \n"
     ]
    }
   ],
   "source": [
    "print(statsmodels.multivariate.multivariate_ols._MultivariateOLSResults.__doc__)"
   ]
  },
  {
   "cell_type": "code",
   "execution_count": 18,
   "metadata": {},
   "outputs": [
    {
     "name": "stdout",
     "output_type": "stream",
     "text": [
      "['Intercept', 'mpg', 'cyl', 'disp']\n",
      "['const', 'mpg', 'cyl', 'disp']\n",
      "['mpg', 'cyl', 'disp']\n"
     ]
    }
   ],
   "source": [
    "print(mod.exog_names)\n",
    "print(noformula_mod.exog_names)\n",
    "print(noConst_mod.exog_names)"
   ]
  },
  {
   "cell_type": "code",
   "execution_count": 19,
   "metadata": {},
   "outputs": [
    {
     "name": "stdout",
     "output_type": "stream",
     "text": [
      "[[ 2.45534817e+01  4.92951014e+01]\n",
      " [-5.30029521e-02 -2.35788925e+00]\n",
      " [-1.15824380e+00  2.07718985e+01]\n",
      " [ 6.61733652e-03  7.03780053e-02]]\n",
      "[[ 2.45534817e+01  4.92951014e+01]\n",
      " [-5.30029521e-02 -2.35788925e+00]\n",
      " [-1.15824380e+00  2.07718985e+01]\n",
      " [ 6.61733652e-03  7.03780053e-02]]\n",
      "[[ True  True]\n",
      " [ True  True]\n",
      " [ True  True]\n",
      " [ True  True]]\n"
     ]
    }
   ],
   "source": [
    "print(mod.params)\n",
    "print(noformula_mod.params)\n",
    "print(mod.params == noformula_mod.params)"
   ]
  },
  {
   "cell_type": "code",
   "execution_count": 20,
   "metadata": {},
   "outputs": [
    {
     "name": "stdout",
     "output_type": "stream",
     "text": [
      "(3, 2)\n",
      "[[ 5.59475931e-01 -1.12823844e+00]\n",
      " [ 6.41898127e-01  2.43859757e+01]\n",
      " [ 1.07804263e-02  7.87360840e-02]]\n"
     ]
    }
   ],
   "source": [
    "# note that params includes the intercepts\n",
    "print(noConst_mod.params.shape)\n",
    "print(noConst_mod.params)"
   ]
  },
  {
   "cell_type": "code",
   "execution_count": 21,
   "metadata": {},
   "outputs": [
    {
     "name": "stdout",
     "output_type": "stream",
     "text": [
      "4\n",
      "4\n",
      "3\n"
     ]
    }
   ],
   "source": [
    "# this SHOULD include the intercept, since that is a parameter that is being estimated\n",
    "print(mod.df_model)\n",
    "print(noformula_mod.df_model)\n",
    "print(noConst_mod.df_model)"
   ]
  },
  {
   "cell_type": "code",
   "execution_count": 22,
   "metadata": {},
   "outputs": [
    {
     "name": "stdout",
     "output_type": "stream",
     "text": [
      "28\n",
      "28\n",
      "29\n"
     ]
    }
   ],
   "source": [
    "# nobs - df_model\n",
    "print(mod.df_resid)\n",
    "print(noformula_mod.df_resid)\n",
    "print(noConst_mod.df_resid)"
   ]
  },
  {
   "cell_type": "code",
   "execution_count": 23,
   "metadata": {},
   "outputs": [
    {
     "name": "stdout",
     "output_type": "stream",
     "text": [
      "True\n",
      "True\n",
      "False\n"
     ]
    }
   ],
   "source": [
    "print(mod.hasconst)\n",
    "print(noformula_mod.hasconst)\n",
    "print(noConst_mod.hasconst)"
   ]
  },
  {
   "cell_type": "code",
   "execution_count": 24,
   "metadata": {},
   "outputs": [
    {
     "name": "stdout",
     "output_type": "stream",
     "text": [
      "qsec + hp ~ mpg + cyl + disp\n",
      "qsec + hp ~ mpg + cyl + disp\n",
      "qsec + hp ~ mpg + cyl + disp\n"
     ]
    }
   ],
   "source": [
    "print(mod.formula)\n",
    "print(noformula_mod.formula)\n",
    "print(noConst_mod.formula)"
   ]
  },
  {
   "cell_type": "code",
   "execution_count": 25,
   "metadata": {},
   "outputs": [
    {
     "name": "stdout",
     "output_type": "stream",
     "text": [
      "21020.589940823113\n",
      "21020.589940823113\n",
      "21316.061165388273\n"
     ]
    }
   ],
   "source": [
    "print(mod.ssr())\n",
    "print(noformula_mod.ssr())\n",
    "print(noConst_mod.ssr()) # as expected, ssr is larger"
   ]
  },
  {
   "cell_type": "code",
   "execution_count": 26,
   "metadata": {
    "scrolled": true
   },
   "outputs": [
    {
     "name": "stdout",
     "output_type": "stream",
     "text": [
      "-149.20638197340233\n",
      "-149.20638197340233\n",
      "-149.42971642369895\n"
     ]
    }
   ],
   "source": [
    "print(mod.loglike)\n",
    "print(noformula_mod.loglike)\n",
    "print(noConst_mod.loglike)"
   ]
  },
  {
   "cell_type": "code",
   "execution_count": 27,
   "metadata": {},
   "outputs": [
    {
     "name": "stdout",
     "output_type": "stream",
     "text": [
      "306.41276394680466\n",
      "306.41276394680466\n",
      "304.8594328473979\n"
     ]
    }
   ],
   "source": [
    "print(mod.aic)\n",
    "print(noformula_mod.aic)\n",
    "print(noConst_mod.aic) # lower due to lower model df"
   ]
  },
  {
   "cell_type": "markdown",
   "metadata": {},
   "source": [
    "## Validate statistical calculations with univariate models:"
   ]
  },
  {
   "cell_type": "code",
   "execution_count": 28,
   "metadata": {},
   "outputs": [],
   "source": [
    "import statsmodels.formula.api as smf\n",
    "# using statsmodels multivariate OLS\n",
    "univar_MOD = smf.ols(formula=\"hp ~ mpg + cyl + disp\", data=cars)\n",
    "univar_mod = univar_MOD.fit()"
   ]
  },
  {
   "cell_type": "code",
   "execution_count": 29,
   "metadata": {},
   "outputs": [
    {
     "data": {
      "text/html": [
       "<table class=\"simpletable\">\n",
       "<caption>OLS Regression Results</caption>\n",
       "<tr>\n",
       "  <th>Dep. Variable:</th>           <td>hp</td>        <th>  R-squared:         </th> <td>   0.712</td>\n",
       "</tr>\n",
       "<tr>\n",
       "  <th>Model:</th>                   <td>OLS</td>       <th>  Adj. R-squared:    </th> <td>   0.681</td>\n",
       "</tr>\n",
       "<tr>\n",
       "  <th>Method:</th>             <td>Least Squares</td>  <th>  F-statistic:       </th> <td>   23.06</td>\n",
       "</tr>\n",
       "<tr>\n",
       "  <th>Date:</th>             <td>Wed, 21 Oct 2020</td> <th>  Prob (F-statistic):</th> <td>1.01e-07</td>\n",
       "</tr>\n",
       "<tr>\n",
       "  <th>Time:</th>                 <td>16:23:56</td>     <th>  Log-Likelihood:    </th> <td> -160.27</td>\n",
       "</tr>\n",
       "<tr>\n",
       "  <th>No. Observations:</th>      <td>    32</td>      <th>  AIC:               </th> <td>   328.5</td>\n",
       "</tr>\n",
       "<tr>\n",
       "  <th>Df Residuals:</th>          <td>    28</td>      <th>  BIC:               </th> <td>   334.4</td>\n",
       "</tr>\n",
       "<tr>\n",
       "  <th>Df Model:</th>              <td>     3</td>      <th>                     </th>     <td> </td>   \n",
       "</tr>\n",
       "<tr>\n",
       "  <th>Covariance Type:</th>      <td>nonrobust</td>    <th>                     </th>     <td> </td>   \n",
       "</tr>\n",
       "</table>\n",
       "<table class=\"simpletable\">\n",
       "<tr>\n",
       "      <td></td>         <th>coef</th>     <th>std err</th>      <th>t</th>      <th>P>|t|</th>  <th>[0.025</th>    <th>0.975]</th>  \n",
       "</tr>\n",
       "<tr>\n",
       "  <th>Intercept</th> <td>   49.2951</td> <td>   87.723</td> <td>    0.562</td> <td> 0.579</td> <td> -130.397</td> <td>  228.987</td>\n",
       "</tr>\n",
       "<tr>\n",
       "  <th>mpg</th>       <td>   -2.3579</td> <td>    2.353</td> <td>   -1.002</td> <td> 0.325</td> <td>   -7.178</td> <td>    2.463</td>\n",
       "</tr>\n",
       "<tr>\n",
       "  <th>cyl</th>       <td>   20.7719</td> <td>    9.764</td> <td>    2.127</td> <td> 0.042</td> <td>    0.771</td> <td>   40.772</td>\n",
       "</tr>\n",
       "<tr>\n",
       "  <th>disp</th>      <td>    0.0704</td> <td>    0.139</td> <td>    0.507</td> <td> 0.616</td> <td>   -0.214</td> <td>    0.355</td>\n",
       "</tr>\n",
       "</table>\n",
       "<table class=\"simpletable\">\n",
       "<tr>\n",
       "  <th>Omnibus:</th>       <td>20.455</td> <th>  Durbin-Watson:     </th> <td>   1.338</td>\n",
       "</tr>\n",
       "<tr>\n",
       "  <th>Prob(Omnibus):</th> <td> 0.000</td> <th>  Jarque-Bera (JB):  </th> <td>  30.678</td>\n",
       "</tr>\n",
       "<tr>\n",
       "  <th>Skew:</th>          <td> 1.579</td> <th>  Prob(JB):          </th> <td>2.18e-07</td>\n",
       "</tr>\n",
       "<tr>\n",
       "  <th>Kurtosis:</th>      <td> 6.611</td> <th>  Cond. No.          </th> <td>3.36e+03</td>\n",
       "</tr>\n",
       "</table><br/><br/>Notes:<br/>[1] Standard Errors assume that the covariance matrix of the errors is correctly specified.<br/>[2] The condition number is large, 3.36e+03. This might indicate that there are<br/>strong multicollinearity or other numerical problems."
      ],
      "text/plain": [
       "<class 'statsmodels.iolib.summary.Summary'>\n",
       "\"\"\"\n",
       "                            OLS Regression Results                            \n",
       "==============================================================================\n",
       "Dep. Variable:                     hp   R-squared:                       0.712\n",
       "Model:                            OLS   Adj. R-squared:                  0.681\n",
       "Method:                 Least Squares   F-statistic:                     23.06\n",
       "Date:                Wed, 21 Oct 2020   Prob (F-statistic):           1.01e-07\n",
       "Time:                        16:23:56   Log-Likelihood:                -160.27\n",
       "No. Observations:                  32   AIC:                             328.5\n",
       "Df Residuals:                      28   BIC:                             334.4\n",
       "Df Model:                           3                                         \n",
       "Covariance Type:            nonrobust                                         \n",
       "==============================================================================\n",
       "                 coef    std err          t      P>|t|      [0.025      0.975]\n",
       "------------------------------------------------------------------------------\n",
       "Intercept     49.2951     87.723      0.562      0.579    -130.397     228.987\n",
       "mpg           -2.3579      2.353     -1.002      0.325      -7.178       2.463\n",
       "cyl           20.7719      9.764      2.127      0.042       0.771      40.772\n",
       "disp           0.0704      0.139      0.507      0.616      -0.214       0.355\n",
       "==============================================================================\n",
       "Omnibus:                       20.455   Durbin-Watson:                   1.338\n",
       "Prob(Omnibus):                  0.000   Jarque-Bera (JB):               30.678\n",
       "Skew:                           1.579   Prob(JB):                     2.18e-07\n",
       "Kurtosis:                       6.611   Cond. No.                     3.36e+03\n",
       "==============================================================================\n",
       "\n",
       "Notes:\n",
       "[1] Standard Errors assume that the covariance matrix of the errors is correctly specified.\n",
       "[2] The condition number is large, 3.36e+03. This might indicate that there are\n",
       "strong multicollinearity or other numerical problems.\n",
       "\"\"\""
      ]
     },
     "execution_count": 29,
     "metadata": {},
     "output_type": "execute_result"
    }
   ],
   "source": [
    "univar_mod.summary()"
   ]
  },
  {
   "cell_type": "markdown",
   "metadata": {},
   "source": [
    "### Validate log likelihood calculation:\n",
    "from `statsmodels.regression.linear_model.OLS`:  \n",
    "```python\n",
    "def loglike(self, params, scale=None):\n",
    "        \"\"\"\n",
    "        The likelihood function for the OLS model.\n",
    "        Parameters\n",
    "        ----------\n",
    "        params : array_like\n",
    "            The coefficients with which to estimate the log-likelihood.\n",
    "        scale : float or None\n",
    "            If None, return the profile (concentrated) log likelihood\n",
    "            (profiled over the scale parameter), else return the\n",
    "            log-likelihood using the given scale value.\n",
    "        Returns\n",
    "        -------\n",
    "        float\n",
    "            The likelihood function evaluated at params.\n",
    "        \"\"\"\n",
    "        nobs2 = self.nobs / 2.0\n",
    "        nobs = float(self.nobs)\n",
    "        resid = self.endog - np.dot(self.exog, params)\n",
    "        if hasattr(self, 'offset'): # what does this mean?\n",
    "            resid -= self.offset\n",
    "        ssr = np.sum(resid**2)\n",
    "        if scale is None: # what does this mean?\n",
    "            # profile log likelihood\n",
    "            llf = -nobs2*np.log(2*np.pi) - nobs2*np.log(ssr / nobs) - nobs2\n",
    "        else:\n",
    "            # log-likelihood\n",
    "            llf = -nobs2 * np.log(2 * np.pi * scale) - ssr / (2*scale)\n",
    "        return llf\n",
    "```\n",
    "Slightly modified for MultivariateOLS:  \n",
    "* using externally calculated ssr\n",
    "```python\n",
    "def loglike(self, scale=None):\n",
    "    nobs2 = self.nobs / 2.0\n",
    "    nobs = float(self.nobs)\n",
    "    ssr=self.ssr\n",
    "    if scale is None: # what does this mean?\n",
    "        # profile log likelihood\n",
    "        llf = -nobs2*np.log(2*np.pi) - nobs2*np.log(ssr / nobs) - nobs2\n",
    "    else:\n",
    "        # log-likelihood\n",
    "        llf = -nobs2 * np.log(2 * np.pi * scale) - ssr / (2*scale)\n",
    "    return llf\n",
    "```"
   ]
  },
  {
   "cell_type": "code",
   "execution_count": 30,
   "metadata": {},
   "outputs": [],
   "source": [
    "def loglike(modResults):\n",
    "    ssr=modResults.ssr\n",
    "    nobs=float(modResults.nobs)\n",
    "    nobs2=nobs/2.0\n",
    "    scale=modResults.scale\n",
    "    if scale is None:\n",
    "        # profile log likelihood\n",
    "        llf = -nobs2*np.log(2*np.pi) - nobs2*np.log(ssr / nobs) - nobs2\n",
    "    else:\n",
    "        # log-likelihood\n",
    "        llf = -nobs2 * np.log(2 * np.pi * scale) - ssr / (2*scale)\n",
    "    return llf"
   ]
  },
  {
   "cell_type": "code",
   "execution_count": 31,
   "metadata": {},
   "outputs": [
    {
     "name": "stdout",
     "output_type": "stream",
     "text": [
      "-160.27451375704806\n",
      "-160.41101603904042\n"
     ]
    }
   ],
   "source": [
    "print(univar_mod.llf)\n",
    "print(loglike(univar_mod))"
   ]
  },
  {
   "cell_type": "markdown",
   "metadata": {},
   "source": [
    "Why are they slightly different? Offset maybe?"
   ]
  },
  {
   "cell_type": "markdown",
   "metadata": {},
   "source": [
    "### Validate AIC calculation"
   ]
  },
  {
   "cell_type": "code",
   "execution_count": 32,
   "metadata": {},
   "outputs": [],
   "source": [
    "# copy of formula from multivariate_ols.py, modify \"self\"\n",
    "def aic(self):\n",
    "        r\"\"\"                                                                                                                                                                                                                                                                    \n",
    "        Akaike's information criteria.                                                                                                                                                                                                                                          \n",
    "                                                                                                                                                                                                                                                                                \n",
    "        :math:`-2llf + 2(df\\_model)`.                                                                                                                                                                                                                                           \n",
    "        Note that df_model includes the constant (if fit).                                                                                                                                                                                                                      \n",
    "        \"\"\"\n",
    "        return -2 * self.llf + (2 * (self.df_model+1)) # add 1 for constant here, since in multivariate OLS I define model_df to include constant"
   ]
  },
  {
   "cell_type": "code",
   "execution_count": 33,
   "metadata": {},
   "outputs": [
    {
     "data": {
      "text/plain": [
       "328.5490275140961"
      ]
     },
     "execution_count": 33,
     "metadata": {},
     "output_type": "execute_result"
    }
   ],
   "source": [
    "univar_mod.aic"
   ]
  },
  {
   "cell_type": "code",
   "execution_count": 34,
   "metadata": {},
   "outputs": [
    {
     "data": {
      "text/plain": [
       "328.5490275140961"
      ]
     },
     "execution_count": 34,
     "metadata": {},
     "output_type": "execute_result"
    }
   ],
   "source": [
    "aic(univar_mod)"
   ]
  },
  {
   "cell_type": "markdown",
   "metadata": {},
   "source": [
    "AIC calculation is correct."
   ]
  },
  {
   "cell_type": "markdown",
   "metadata": {},
   "source": [
    "## Validate model stats against R:"
   ]
  },
  {
   "cell_type": "code",
   "execution_count": 35,
   "metadata": {},
   "outputs": [],
   "source": [
    "%load_ext rpy2.ipython"
   ]
  },
  {
   "cell_type": "code",
   "execution_count": 36,
   "metadata": {},
   "outputs": [
    {
     "data": {
      "text/plain": [
       "'qsec + hp ~ mpg + cyl + disp'"
      ]
     },
     "execution_count": 36,
     "metadata": {},
     "output_type": "execute_result"
    }
   ],
   "source": [
    "mod.formula"
   ]
  },
  {
   "cell_type": "code",
   "execution_count": 37,
   "metadata": {},
   "outputs": [
    {
     "name": "stdout",
     "output_type": "stream",
     "text": [
      "[1]  36.0000 487.2014\n",
      "Response qsec :\n",
      "\n",
      "Call:\n",
      "lm(formula = qsec ~ mpg + cyl + disp, data = cars)\n",
      "\n",
      "Residuals:\n",
      "    Min      1Q  Median      3Q     Max \n",
      "-2.6385 -1.0082  0.1268  0.8874  3.2562 \n",
      "\n",
      "Coefficients:\n",
      "             Estimate Std. Error t value Pr(>|t|)    \n",
      "(Intercept) 24.553482   3.270432   7.508 3.54e-08 ***\n",
      "mpg         -0.053003   0.087735  -0.604  0.55062    \n",
      "cyl         -1.158244   0.364015  -3.182  0.00356 ** \n",
      "disp         0.006617   0.005172   1.279  0.21123    \n",
      "---\n",
      "Signif. codes:  0 ‘***’ 0.001 ‘**’ 0.01 ‘*’ 0.05 ‘.’ 0.1 ‘ ’ 1\n",
      "\n",
      "Residual standard error: 1.444 on 28 degrees of freedom\n",
      "Multiple R-squared:  0.4105,\tAdjusted R-squared:  0.3474 \n",
      "F-statistic:   6.5 on 3 and 28 DF,  p-value: 0.001777\n",
      "\n",
      "\n",
      "Response hp :\n",
      "\n",
      "Call:\n",
      "lm(formula = hp ~ mpg + cyl + disp, data = cars)\n",
      "\n",
      "Residuals:\n",
      "   Min     1Q Median     3Q    Max \n",
      "-51.30 -22.08 -11.18  13.15 133.71 \n",
      "\n",
      "Coefficients:\n",
      "            Estimate Std. Error t value Pr(>|t|)  \n",
      "(Intercept) 49.29510   87.72268   0.562   0.5786  \n",
      "mpg         -2.35789    2.35332  -1.002   0.3250  \n",
      "cyl         20.77190    9.76397   2.127   0.0423 *\n",
      "disp         0.07038    0.13872   0.507   0.6159  \n",
      "---\n",
      "Signif. codes:  0 ‘***’ 0.001 ‘**’ 0.01 ‘*’ 0.05 ‘.’ 0.1 ‘ ’ 1\n",
      "\n",
      "Residual standard error: 38.72 on 28 degrees of freedom\n",
      "Multiple R-squared:  0.7119,\tAdjusted R-squared:  0.681 \n",
      "F-statistic: 23.06 on 3 and 28 DF,  p-value: 1.005e-07\n",
      "\n",
      "\n"
     ]
    }
   ],
   "source": [
    "%%R -i cars\n",
    "#print(class(cars))\n",
    "\n",
    "mv1 <- lm(cbind(qsec, hp) ~ mpg + cyl + disp, data = cars)\n",
    "print(extractAIC(mv1)) # this returns multiple values, guessing one for each response?\n",
    "summary(mv1)"
   ]
  },
  {
   "cell_type": "code",
   "execution_count": 38,
   "metadata": {},
   "outputs": [
    {
     "data": {
      "text/plain": [
       "array([[ 2.45534817e+01,  4.92951014e+01],\n",
       "       [-5.30029521e-02, -2.35788925e+00],\n",
       "       [-1.15824380e+00,  2.07718985e+01],\n",
       "       [ 6.61733652e-03,  7.03780053e-02]])"
      ]
     },
     "execution_count": 38,
     "metadata": {},
     "output_type": "execute_result"
    }
   ],
   "source": [
    "mod.params"
   ]
  },
  {
   "cell_type": "markdown",
   "metadata": {},
   "source": [
    "## Validate implementation of F test\n",
    "compare restricted vs un-restricted models\n",
    "\n",
    "add as class to multivariate_ols.py\n",
    "\n",
    "### Calculate the F statistic using residual sum of squares:\n",
    "$$ F statistic = \\frac{ \\frac{RSS_1 - RSS_2}{k_2 - k_1} }{ \\frac{RSS_2}{n-k_2} } $$\n",
    "where:   \n",
    "$RSS_1, RSS_2=\\text{residual sum of squares for simple and complex models, respectively}$  \n",
    "$k_1, k_2=\\text{model degrees of freedom (number of independent/exog variables) in simple and complex model, respectively}$  \n",
    "$n=\\text{number of samples or observations}$.  \n",
    "### Compare with sm.stats.anova_lm()\n",
    "Set up two models:"
   ]
  },
  {
   "cell_type": "code",
   "execution_count": 39,
   "metadata": {},
   "outputs": [
    {
     "data": {
      "text/html": [
       "<div>\n",
       "<style scoped>\n",
       "    .dataframe tbody tr th:only-of-type {\n",
       "        vertical-align: middle;\n",
       "    }\n",
       "\n",
       "    .dataframe tbody tr th {\n",
       "        vertical-align: top;\n",
       "    }\n",
       "\n",
       "    .dataframe thead th {\n",
       "        text-align: right;\n",
       "    }\n",
       "</style>\n",
       "<table border=\"1\" class=\"dataframe\">\n",
       "  <thead>\n",
       "    <tr style=\"text-align: right;\">\n",
       "      <th></th>\n",
       "      <th>df_resid</th>\n",
       "      <th>ssr</th>\n",
       "      <th>df_diff</th>\n",
       "      <th>ss_diff</th>\n",
       "      <th>F</th>\n",
       "      <th>Pr(&gt;F)</th>\n",
       "    </tr>\n",
       "  </thead>\n",
       "  <tbody>\n",
       "    <tr>\n",
       "      <th>0</th>\n",
       "      <td>29.0</td>\n",
       "      <td>42368.731278</td>\n",
       "      <td>0.0</td>\n",
       "      <td>NaN</td>\n",
       "      <td>NaN</td>\n",
       "      <td>NaN</td>\n",
       "    </tr>\n",
       "    <tr>\n",
       "      <th>1</th>\n",
       "      <td>28.0</td>\n",
       "      <td>41982.827567</td>\n",
       "      <td>1.0</td>\n",
       "      <td>385.903711</td>\n",
       "      <td>0.257374</td>\n",
       "      <td>0.615902</td>\n",
       "    </tr>\n",
       "  </tbody>\n",
       "</table>\n",
       "</div>"
      ],
      "text/plain": [
       "   df_resid           ssr  df_diff     ss_diff         F    Pr(>F)\n",
       "0      29.0  42368.731278      0.0         NaN       NaN       NaN\n",
       "1      28.0  41982.827567      1.0  385.903711  0.257374  0.615902"
      ]
     },
     "execution_count": 39,
     "metadata": {},
     "output_type": "execute_result"
    }
   ],
   "source": [
    "m1 = smf.ols(formula=\"hp ~ mpg + cyl\", data=cars).fit()\n",
    "m2 = smf.ols(formula=\"hp ~ mpg + cyl + disp\", data=cars).fit()\n",
    "\n",
    "anovaRes = sm.stats.anova_lm(m1, m2)\n",
    "anovaRes"
   ]
  },
  {
   "cell_type": "markdown",
   "metadata": {},
   "source": [
    "Code from multivariate_ols.F_test_multivariate : \n",
    "\n",
    "```python\n",
    "def F_statistic(self):\n",
    "    \"\"\"\n",
    "    '1' refers to restricted model\n",
    "    '2' refers to unrestricted model\n",
    "    \"\"\"\n",
    "    num = (self.ssr1 - self.ssr2) / (self.df_model_2 - self.df_model_1)\n",
    "    # NOTE: statsmodels.stats.anova_lm() has a \"scale\" parameter here. I'm not sure what that is.\n",
    "    denom = self.ssr2 / (self.nobs - self.df_model_2)\n",
    "    F_stat = num / denom\n",
    "    return F_stat\n",
    "   \n",
    "def prF(self):\n",
    "    df_diff = self.df_model_2 - self.df_model_1\n",
    "    return stats.f.sf(self.F_stat, df_diff, self.df_resid)\n",
    "\n",
    "def results(self):\n",
    "    models=[self.restricted, self.unrestricted]\n",
    "    cols=['formula','df_resid','ssr', 'model_df','model_df_diff','ssr_diff','F_stat','Pr>F']\n",
    "    df = pd.DataFrame(np.zeros((2,len(cols))), index=[\"restricted model\",\"unrestricted model\"], \n",
    "                          columns=cols)\n",
    "        \n",
    "    df['formula'] = [mdl.formula for mdl in models]\n",
    "    df['df_resid'] = [mdl.df_resid for mdl in models]\n",
    "    df['ssr'] = [mdl.ssr for mdl in models]\n",
    "    df['model_df'] = [mdl.df_model for mdl in models]\n",
    "    df['model_df_diff'] = df['model_df'].diff()\n",
    "    df['ssr_diff'] = df['ssr'].diff()\n",
    "    df.loc['unrestricted model','F_stat'] = self.F_statistic\n",
    "    df.loc['unrestricted model','Pr>F'] = self.prF\n",
    "        \n",
    "    df = df.replace(0, np.nan)\n",
    "    return df\n",
    "```"
   ]
  },
  {
   "cell_type": "code",
   "execution_count": 40,
   "metadata": {},
   "outputs": [],
   "source": [
    "# modified to remove use of \"self\"\n",
    "def F_statistic(m1, m2):\n",
    "    \"\"\"\n",
    "    '1' refers to restricted model\n",
    "    '2' refers to unrestricted model\n",
    "    \"\"\"\n",
    "    num = (m1.ssr - m2.ssr) / (m2.df_model - m1.df_model)\n",
    "    # NOTE: statsmodels.stats.anova_lm() has a \"scale\" parameter here. I'm not sure what that is.\n",
    "    denom = m2.ssr / (m2.nobs - m2.df_model)\n",
    "    F_stat = num / denom\n",
    "    return F_stat\n",
    "\n",
    "def prF(m1, m2, F_stat):\n",
    "    df_diff = m2.df_model - m1.df_model\n",
    "    return stats.f.sf(F_stat, df_diff, m2.df_resid)\n",
    "\n",
    "def results(m1, m2, F_stat, prF):\n",
    "    models=[m1, m2]\n",
    "    cols=['formula','df_resid','ssr', 'model_df','model_df_diff','ssr_diff','F_stat','Pr>F']\n",
    "    df = pd.DataFrame(np.zeros((2,len(cols))), index=[\"restricted model\",\"unrestricted model\"], \n",
    "                          columns=cols)\n",
    "\n",
    "    #df['formula'] = [mdl.formula for mdl in models]\n",
    "    df['df_resid'] = [mdl.df_resid for mdl in models]\n",
    "    df['ssr'] = [mdl.ssr for mdl in models]\n",
    "    df['model_df'] = [mdl.df_model for mdl in models]\n",
    "    df['model_df_diff'] = df['model_df'].diff()\n",
    "    df['ssr_diff'] = df['ssr'].diff()\n",
    "    df.loc['unrestricted model','F_stat'] = F_stat\n",
    "    df.loc['unrestricted model','Pr>F'] = prF\n",
    "\n",
    "    df = df.replace(0, np.nan)\n",
    "    return df"
   ]
  },
  {
   "cell_type": "code",
   "execution_count": 41,
   "metadata": {},
   "outputs": [
    {
     "data": {
      "text/html": [
       "<div>\n",
       "<style scoped>\n",
       "    .dataframe tbody tr th:only-of-type {\n",
       "        vertical-align: middle;\n",
       "    }\n",
       "\n",
       "    .dataframe tbody tr th {\n",
       "        vertical-align: top;\n",
       "    }\n",
       "\n",
       "    .dataframe thead th {\n",
       "        text-align: right;\n",
       "    }\n",
       "</style>\n",
       "<table border=\"1\" class=\"dataframe\">\n",
       "  <thead>\n",
       "    <tr style=\"text-align: right;\">\n",
       "      <th></th>\n",
       "      <th>formula</th>\n",
       "      <th>df_resid</th>\n",
       "      <th>ssr</th>\n",
       "      <th>model_df</th>\n",
       "      <th>model_df_diff</th>\n",
       "      <th>ssr_diff</th>\n",
       "      <th>F_stat</th>\n",
       "      <th>Pr&gt;F</th>\n",
       "    </tr>\n",
       "  </thead>\n",
       "  <tbody>\n",
       "    <tr>\n",
       "      <th>restricted model</th>\n",
       "      <td>NaN</td>\n",
       "      <td>29.0</td>\n",
       "      <td>42368.731278</td>\n",
       "      <td>2.0</td>\n",
       "      <td>NaN</td>\n",
       "      <td>NaN</td>\n",
       "      <td>NaN</td>\n",
       "      <td>NaN</td>\n",
       "    </tr>\n",
       "    <tr>\n",
       "      <th>unrestricted model</th>\n",
       "      <td>NaN</td>\n",
       "      <td>28.0</td>\n",
       "      <td>41982.827567</td>\n",
       "      <td>3.0</td>\n",
       "      <td>1.0</td>\n",
       "      <td>-385.903711</td>\n",
       "      <td>0.266566</td>\n",
       "      <td>0.609698</td>\n",
       "    </tr>\n",
       "  </tbody>\n",
       "</table>\n",
       "</div>"
      ],
      "text/plain": [
       "                    formula  df_resid           ssr  model_df  model_df_diff  \\\n",
       "restricted model        NaN      29.0  42368.731278       2.0            NaN   \n",
       "unrestricted model      NaN      28.0  41982.827567       3.0            1.0   \n",
       "\n",
       "                      ssr_diff    F_stat      Pr>F  \n",
       "restricted model           NaN       NaN       NaN  \n",
       "unrestricted model -385.903711  0.266566  0.609698  "
      ]
     },
     "execution_count": 41,
     "metadata": {},
     "output_type": "execute_result"
    }
   ],
   "source": [
    "F_stat=F_statistic(m1, m2)\n",
    "prF=prF(m1, m2, F_stat)\n",
    "results(m1, m2, F_stat, prF)"
   ]
  },
  {
   "cell_type": "code",
   "execution_count": 42,
   "metadata": {},
   "outputs": [
    {
     "data": {
      "text/html": [
       "<div>\n",
       "<style scoped>\n",
       "    .dataframe tbody tr th:only-of-type {\n",
       "        vertical-align: middle;\n",
       "    }\n",
       "\n",
       "    .dataframe tbody tr th {\n",
       "        vertical-align: top;\n",
       "    }\n",
       "\n",
       "    .dataframe thead th {\n",
       "        text-align: right;\n",
       "    }\n",
       "</style>\n",
       "<table border=\"1\" class=\"dataframe\">\n",
       "  <thead>\n",
       "    <tr style=\"text-align: right;\">\n",
       "      <th></th>\n",
       "      <th>df_resid</th>\n",
       "      <th>ssr</th>\n",
       "      <th>df_diff</th>\n",
       "      <th>ss_diff</th>\n",
       "      <th>F</th>\n",
       "      <th>Pr(&gt;F)</th>\n",
       "    </tr>\n",
       "  </thead>\n",
       "  <tbody>\n",
       "    <tr>\n",
       "      <th>0</th>\n",
       "      <td>29.0</td>\n",
       "      <td>42368.731278</td>\n",
       "      <td>0.0</td>\n",
       "      <td>NaN</td>\n",
       "      <td>NaN</td>\n",
       "      <td>NaN</td>\n",
       "    </tr>\n",
       "    <tr>\n",
       "      <th>1</th>\n",
       "      <td>28.0</td>\n",
       "      <td>41982.827567</td>\n",
       "      <td>1.0</td>\n",
       "      <td>385.903711</td>\n",
       "      <td>0.257374</td>\n",
       "      <td>0.615902</td>\n",
       "    </tr>\n",
       "  </tbody>\n",
       "</table>\n",
       "</div>"
      ],
      "text/plain": [
       "   df_resid           ssr  df_diff     ss_diff         F    Pr(>F)\n",
       "0      29.0  42368.731278      0.0         NaN       NaN       NaN\n",
       "1      28.0  41982.827567      1.0  385.903711  0.257374  0.615902"
      ]
     },
     "execution_count": 42,
     "metadata": {},
     "output_type": "execute_result"
    }
   ],
   "source": [
    "anovaRes"
   ]
  },
  {
   "cell_type": "markdown",
   "metadata": {},
   "source": [
    "In `statsmodels.stats.anova_lm`, the F statistic is divided by the \"scale\" property. This explains the difference. P value is close enough."
   ]
  },
  {
   "cell_type": "markdown",
   "metadata": {},
   "source": [
    "### Validate F test works with multivariate models:"
   ]
  },
  {
   "cell_type": "code",
   "execution_count": 43,
   "metadata": {},
   "outputs": [
    {
     "name": "stdout",
     "output_type": "stream",
     "text": [
      "0.2592893842525494\n",
      "0.6145984807321916\n"
     ]
    }
   ],
   "source": [
    "mv1 = statsmodels.multivariate.multivariate_ols._MultivariateOLS.from_formula(\n",
    "    formula=\"qsec + hp ~ mpg + cyl\", data=cars).fit()\n",
    "mv2 = statsmodels.multivariate.multivariate_ols._MultivariateOLS.from_formula(\n",
    "    formula=\"qsec + hp ~ mpg + cyl + disp\", data=cars).fit()\n",
    "\n",
    "fTest = statsmodels.multivariate.multivariate_ols.F_test_multivariate(mv1, mv2)\n",
    "print(fTest.F_statistic)\n",
    "print(fTest.prF)"
   ]
  },
  {
   "cell_type": "code",
   "execution_count": 44,
   "metadata": {},
   "outputs": [
    {
     "data": {
      "text/html": [
       "<div>\n",
       "<style scoped>\n",
       "    .dataframe tbody tr th:only-of-type {\n",
       "        vertical-align: middle;\n",
       "    }\n",
       "\n",
       "    .dataframe tbody tr th {\n",
       "        vertical-align: top;\n",
       "    }\n",
       "\n",
       "    .dataframe thead th {\n",
       "        text-align: right;\n",
       "    }\n",
       "</style>\n",
       "<table border=\"1\" class=\"dataframe\">\n",
       "  <thead>\n",
       "    <tr style=\"text-align: right;\">\n",
       "      <th></th>\n",
       "      <th>formula</th>\n",
       "      <th>df_resid</th>\n",
       "      <th>ssr</th>\n",
       "      <th>model_df</th>\n",
       "      <th>model_df_diff</th>\n",
       "      <th>ssr_diff</th>\n",
       "      <th>F_stat</th>\n",
       "      <th>Pr&gt;F</th>\n",
       "    </tr>\n",
       "  </thead>\n",
       "  <tbody>\n",
       "    <tr>\n",
       "      <th>restricted model</th>\n",
       "      <td>qsec + hp ~ mpg + cyl</td>\n",
       "      <td>29</td>\n",
       "      <td>21215.247649</td>\n",
       "      <td>3</td>\n",
       "      <td>NaN</td>\n",
       "      <td>NaN</td>\n",
       "      <td>NaN</td>\n",
       "      <td>NaN</td>\n",
       "    </tr>\n",
       "    <tr>\n",
       "      <th>unrestricted model</th>\n",
       "      <td>qsec + hp ~ mpg + cyl + disp</td>\n",
       "      <td>28</td>\n",
       "      <td>21020.589941</td>\n",
       "      <td>4</td>\n",
       "      <td>1.0</td>\n",
       "      <td>-194.657708</td>\n",
       "      <td>0.259289</td>\n",
       "      <td>0.614598</td>\n",
       "    </tr>\n",
       "  </tbody>\n",
       "</table>\n",
       "</div>"
      ],
      "text/plain": [
       "                                         formula  df_resid           ssr  \\\n",
       "restricted model           qsec + hp ~ mpg + cyl        29  21215.247649   \n",
       "unrestricted model  qsec + hp ~ mpg + cyl + disp        28  21020.589941   \n",
       "\n",
       "                    model_df  model_df_diff    ssr_diff    F_stat      Pr>F  \n",
       "restricted model           3            NaN         NaN       NaN       NaN  \n",
       "unrestricted model         4            1.0 -194.657708  0.259289  0.614598  "
      ]
     },
     "execution_count": 44,
     "metadata": {},
     "output_type": "execute_result"
    }
   ],
   "source": [
    "fTest.results"
   ]
  },
  {
   "cell_type": "markdown",
   "metadata": {},
   "source": [
    "### Compare F test calculation with R:\n",
    "this is different, but I'm not sure the test is actually the same"
   ]
  },
  {
   "cell_type": "code",
   "execution_count": 45,
   "metadata": {},
   "outputs": [
    {
     "name": "stdout",
     "output_type": "stream",
     "text": [
      "The rpy2.ipython extension is already loaded. To reload it, use:\n",
      "  %reload_ext rpy2.ipython\n"
     ]
    }
   ],
   "source": [
    "%load_ext rpy2.ipython"
   ]
  },
  {
   "cell_type": "code",
   "execution_count": 46,
   "metadata": {},
   "outputs": [
    {
     "name": "stdout",
     "output_type": "stream",
     "text": [
      "[1] \"data.frame\"\n",
      "Analysis of Variance Table\n",
      "\n",
      "Model 1: cbind(qsec, hp) ~ mpg + cyl\n",
      "Model 2: cbind(qsec, hp) ~ mpg + cyl + disp\n",
      "  Res.Df Df Gen.var.  Pillai approx F num Df den Df Pr(>F)\n",
      "1     29      46.365                                      \n",
      "2     28 -1   44.810 0.12924   2.0038      2     27 0.1544\n"
     ]
    }
   ],
   "source": [
    "%%R -i cars\n",
    "print(class(cars))\n",
    "\n",
    "mv1 <- lm(cbind(qsec, hp) ~ mpg + cyl, data = cars)\n",
    "mv2 <- lm(cbind(qsec, hp) ~ mpg + cyl + disp, data = cars)\n",
    "anova(mv1, mv2)"
   ]
  },
  {
   "cell_type": "markdown",
   "metadata": {},
   "source": [
    "## How to implement MANOVA\n",
    "Test significance of each term in a multivariate model"
   ]
  },
  {
   "cell_type": "code",
   "execution_count": 47,
   "metadata": {
    "scrolled": true
   },
   "outputs": [],
   "source": [
    "manv = manova.MANOVA.from_formula(mod.formula, data=cars).mv_test()\n",
    "#print(manv)"
   ]
  },
  {
   "cell_type": "code",
   "execution_count": 48,
   "metadata": {},
   "outputs": [
    {
     "data": {
      "text/html": [
       "<div>\n",
       "<style scoped>\n",
       "    .dataframe tbody tr th:only-of-type {\n",
       "        vertical-align: middle;\n",
       "    }\n",
       "\n",
       "    .dataframe tbody tr th {\n",
       "        vertical-align: top;\n",
       "    }\n",
       "\n",
       "    .dataframe thead th {\n",
       "        text-align: right;\n",
       "    }\n",
       "</style>\n",
       "<table border=\"1\" class=\"dataframe\">\n",
       "  <thead>\n",
       "    <tr style=\"text-align: right;\">\n",
       "      <th></th>\n",
       "      <th></th>\n",
       "      <th>Value</th>\n",
       "      <th>Num DF</th>\n",
       "      <th>Den DF</th>\n",
       "      <th>F Value</th>\n",
       "      <th>Pr &gt; F</th>\n",
       "    </tr>\n",
       "    <tr>\n",
       "      <th>Effect</th>\n",
       "      <th>Statistic</th>\n",
       "      <th></th>\n",
       "      <th></th>\n",
       "      <th></th>\n",
       "      <th></th>\n",
       "      <th></th>\n",
       "    </tr>\n",
       "  </thead>\n",
       "  <tbody>\n",
       "    <tr>\n",
       "      <th rowspan=\"4\" valign=\"top\">Intercept</th>\n",
       "      <th>Wilks' lambda</th>\n",
       "      <td>0.225702</td>\n",
       "      <td>2</td>\n",
       "      <td>27</td>\n",
       "      <td>46.3135</td>\n",
       "      <td>1.87377e-09</td>\n",
       "    </tr>\n",
       "    <tr>\n",
       "      <th>Pillai's trace</th>\n",
       "      <td>0.774298</td>\n",
       "      <td>2</td>\n",
       "      <td>27</td>\n",
       "      <td>46.3135</td>\n",
       "      <td>1.87377e-09</td>\n",
       "    </tr>\n",
       "    <tr>\n",
       "      <th>Hotelling-Lawley trace</th>\n",
       "      <td>3.43063</td>\n",
       "      <td>2</td>\n",
       "      <td>27</td>\n",
       "      <td>46.3135</td>\n",
       "      <td>1.87377e-09</td>\n",
       "    </tr>\n",
       "    <tr>\n",
       "      <th>Roy's greatest root</th>\n",
       "      <td>3.43063</td>\n",
       "      <td>2</td>\n",
       "      <td>27</td>\n",
       "      <td>46.3135</td>\n",
       "      <td>1.87377e-09</td>\n",
       "    </tr>\n",
       "    <tr>\n",
       "      <th rowspan=\"4\" valign=\"top\">mpg</th>\n",
       "      <th>Wilks' lambda</th>\n",
       "      <td>0.895814</td>\n",
       "      <td>2</td>\n",
       "      <td>27</td>\n",
       "      <td>1.57009</td>\n",
       "      <td>0.226435</td>\n",
       "    </tr>\n",
       "    <tr>\n",
       "      <th>Pillai's trace</th>\n",
       "      <td>0.104186</td>\n",
       "      <td>2</td>\n",
       "      <td>27</td>\n",
       "      <td>1.57009</td>\n",
       "      <td>0.226435</td>\n",
       "    </tr>\n",
       "    <tr>\n",
       "      <th>Hotelling-Lawley trace</th>\n",
       "      <td>0.116303</td>\n",
       "      <td>2</td>\n",
       "      <td>27</td>\n",
       "      <td>1.57009</td>\n",
       "      <td>0.226435</td>\n",
       "    </tr>\n",
       "    <tr>\n",
       "      <th>Roy's greatest root</th>\n",
       "      <td>0.116303</td>\n",
       "      <td>2</td>\n",
       "      <td>27</td>\n",
       "      <td>1.57009</td>\n",
       "      <td>0.226435</td>\n",
       "    </tr>\n",
       "    <tr>\n",
       "      <th rowspan=\"4\" valign=\"top\">cyl</th>\n",
       "      <th>Wilks' lambda</th>\n",
       "      <td>0.732924</td>\n",
       "      <td>2</td>\n",
       "      <td>27</td>\n",
       "      <td>4.91936</td>\n",
       "      <td>0.0150765</td>\n",
       "    </tr>\n",
       "    <tr>\n",
       "      <th>Pillai's trace</th>\n",
       "      <td>0.267076</td>\n",
       "      <td>2</td>\n",
       "      <td>27</td>\n",
       "      <td>4.91936</td>\n",
       "      <td>0.0150765</td>\n",
       "    </tr>\n",
       "    <tr>\n",
       "      <th>Hotelling-Lawley trace</th>\n",
       "      <td>0.364397</td>\n",
       "      <td>2</td>\n",
       "      <td>27</td>\n",
       "      <td>4.91936</td>\n",
       "      <td>0.0150765</td>\n",
       "    </tr>\n",
       "    <tr>\n",
       "      <th>Roy's greatest root</th>\n",
       "      <td>0.364397</td>\n",
       "      <td>2</td>\n",
       "      <td>27</td>\n",
       "      <td>4.91936</td>\n",
       "      <td>0.0150765</td>\n",
       "    </tr>\n",
       "    <tr>\n",
       "      <th rowspan=\"4\" valign=\"top\">disp</th>\n",
       "      <th>Wilks' lambda</th>\n",
       "      <td>0.870757</td>\n",
       "      <td>2</td>\n",
       "      <td>27</td>\n",
       "      <td>2.00376</td>\n",
       "      <td>0.154386</td>\n",
       "    </tr>\n",
       "    <tr>\n",
       "      <th>Pillai's trace</th>\n",
       "      <td>0.129243</td>\n",
       "      <td>2</td>\n",
       "      <td>27</td>\n",
       "      <td>2.00376</td>\n",
       "      <td>0.154386</td>\n",
       "    </tr>\n",
       "    <tr>\n",
       "      <th>Hotelling-Lawley trace</th>\n",
       "      <td>0.148426</td>\n",
       "      <td>2</td>\n",
       "      <td>27</td>\n",
       "      <td>2.00376</td>\n",
       "      <td>0.154386</td>\n",
       "    </tr>\n",
       "    <tr>\n",
       "      <th>Roy's greatest root</th>\n",
       "      <td>0.148426</td>\n",
       "      <td>2</td>\n",
       "      <td>27</td>\n",
       "      <td>2.00376</td>\n",
       "      <td>0.154386</td>\n",
       "    </tr>\n",
       "  </tbody>\n",
       "</table>\n",
       "</div>"
      ],
      "text/plain": [
       "                                     Value Num DF Den DF  F Value       Pr > F\n",
       "Effect    Statistic                                                           \n",
       "Intercept Wilks' lambda           0.225702      2     27  46.3135  1.87377e-09\n",
       "          Pillai's trace          0.774298      2     27  46.3135  1.87377e-09\n",
       "          Hotelling-Lawley trace   3.43063      2     27  46.3135  1.87377e-09\n",
       "          Roy's greatest root      3.43063      2     27  46.3135  1.87377e-09\n",
       "mpg       Wilks' lambda           0.895814      2     27  1.57009     0.226435\n",
       "          Pillai's trace          0.104186      2     27  1.57009     0.226435\n",
       "          Hotelling-Lawley trace  0.116303      2     27  1.57009     0.226435\n",
       "          Roy's greatest root     0.116303      2     27  1.57009     0.226435\n",
       "cyl       Wilks' lambda           0.732924      2     27  4.91936    0.0150765\n",
       "          Pillai's trace          0.267076      2     27  4.91936    0.0150765\n",
       "          Hotelling-Lawley trace  0.364397      2     27  4.91936    0.0150765\n",
       "          Roy's greatest root     0.364397      2     27  4.91936    0.0150765\n",
       "disp      Wilks' lambda           0.870757      2     27  2.00376     0.154386\n",
       "          Pillai's trace          0.129243      2     27  2.00376     0.154386\n",
       "          Hotelling-Lawley trace  0.148426      2     27  2.00376     0.154386\n",
       "          Roy's greatest root     0.148426      2     27  2.00376     0.154386"
      ]
     },
     "execution_count": 48,
     "metadata": {},
     "output_type": "execute_result"
    }
   ],
   "source": [
    "manv.summary_frame"
   ]
  },
  {
   "cell_type": "markdown",
   "metadata": {},
   "source": [
    "### Compare statsmodels MANOVA with R:\n",
    "Some terms are different- why?"
   ]
  },
  {
   "cell_type": "code",
   "execution_count": 49,
   "metadata": {},
   "outputs": [
    {
     "name": "stdout",
     "output_type": "stream",
     "text": [
      "Analysis of Variance Table\n",
      "\n",
      "            Df  Pillai approx F num Df den Df    Pr(>F)    \n",
      "(Intercept)  1 0.99749   5359.5      2     27 < 2.2e-16 ***\n",
      "mpg          1 0.69228     30.4      2     27 1.231e-07 ***\n",
      "cyl          1 0.30834      6.0      2     27  0.006896 ** \n",
      "disp         1 0.12924      2.0      2     27  0.154386    \n",
      "Residuals   28                                             \n",
      "---\n",
      "Signif. codes:  0 ‘***’ 0.001 ‘**’ 0.01 ‘*’ 0.05 ‘.’ 0.1 ‘ ’ 1\n"
     ]
    }
   ],
   "source": [
    "%%R -i cars\n",
    "\n",
    "mv1 <- lm(cbind(qsec, hp) ~ mpg + cyl + disp, data = cars)\n",
    "anova(mv1)"
   ]
  },
  {
   "cell_type": "markdown",
   "metadata": {},
   "source": [
    "## Forward stepwise model selection\n",
    "1. Start with null model (Y ~ 1)\n",
    "2. Fit p OLS regression models, each with one of the X variables  and the intercept\n",
    "3. Select the best out of these models, and fix this X term in the model going forward.\n",
    "  * lowest residual sum of squares\n",
    "  * R squared?\n",
    "  * P-value?\n",
    "4. Search through  remaining p-1 variables and determine which variable should be added to the current model to best improve the residual sum of squares.\n",
    "5. Continue until some stopping rule is satisfied\n",
    "  * additional terms have p-value > 0.05\n",
    "  * minimum AIC is reached"
   ]
  },
  {
   "cell_type": "code",
   "execution_count": 50,
   "metadata": {},
   "outputs": [],
   "source": [
    "null = statsmodels.multivariate.multivariate_ols._MultivariateOLS.from_formula(\n",
    "    formula=\"qsec + hp ~ 1\", data=cars).fit()"
   ]
  },
  {
   "cell_type": "code",
   "execution_count": 51,
   "metadata": {},
   "outputs": [
    {
     "data": {
      "text/plain": [
       "['qsec', 'hp']"
      ]
     },
     "execution_count": 51,
     "metadata": {},
     "output_type": "execute_result"
    }
   ],
   "source": [
    "null.endog_names"
   ]
  },
  {
   "cell_type": "code",
   "execution_count": 52,
   "metadata": {},
   "outputs": [
    {
     "data": {
      "text/plain": [
       "['Intercept']"
      ]
     },
     "execution_count": 52,
     "metadata": {},
     "output_type": "execute_result"
    }
   ],
   "source": [
    "null.exog_names"
   ]
  },
  {
   "cell_type": "markdown",
   "metadata": {},
   "source": [
    "```python\n",
    "# TODO: add r2 calculation\n",
    "idx=pd.IndexSlice\n",
    "def forward_stepwise(X, Y, data=None, param_select=\"ssr\", statistic=\"pillai\", verbose=False):\n",
    "    \"\"\"\n",
    "    Performs forward stepwise model selection for a set of X and Y data.\n",
    "    \n",
    "    Parameters\n",
    "    -------\n",
    "    X : array-like\n",
    "        Dataframe or array containing independent/exog variable data. Must be of\n",
    "        shape (m,n) where m is variables and n is observations.\n",
    "        If data is not None, must be list-like, corresponding to column names in data.\n",
    "    Y : array-like\n",
    "        Dataframe or array containing dependent/endog variable data. Must be of\n",
    "        shape (m,n) where m is outcome(s) and n is observations.\n",
    "        If data is not None, must be list-like, corresponding to column names in data.\n",
    "    data : array-like, optional\n",
    "        Dataframe containing both independent/exog and dependent/endog variables. Must\n",
    "        be of shape (m,n), where m is variables/outcomes and n is observations.\n",
    "    param_select : str, optional\n",
    "        Can be one of ['ssr', 'pval']. Metric used to select the parameter that\n",
    "        best improves the model at each iteration. Default is 'ssr'.\n",
    "    statistic : str, optional\n",
    "        Can be one of ['pillai','wilks','hotelling-lawly','roys']. Test statistic used by\n",
    "        statsmodels.multivariate.manova to calculate statistical significance of added parameters.\n",
    "    verbose : boolean, optional\n",
    "        If True, return an additional dataframe containing information about paramters that\n",
    "        were not added to model due to co-linearity.\n",
    "    \n",
    "    Returns\n",
    "    -------\n",
    "    results : dataframe\n",
    "        Dataframe of model parameters at each iteration of selection\n",
    "    dropped_params : dataframe, optional\n",
    "        Only returned if verbose=True.\n",
    "    \n",
    "    \"\"\"\n",
    "    \n",
    "    if data is not None:\n",
    "        endog=data[Y]\n",
    "        endog_names=Y\n",
    "        exog=data[X]\n",
    "        exog_names=X\n",
    "    else:\n",
    "        raise NotImplementedError(\"use with 'data' arg for now.\")\n",
    "        endog=Y\n",
    "        endog_names=Y.columns\n",
    "        exog=X\n",
    "        exog_names=X.columns\n",
    "        # combine data\n",
    "        if isinstance(X, pd.DataFrame):\n",
    "            data = pd.concat([X,Y], axis=1, ignore_index=True)\n",
    "        if isinstance(X, np.ndarray): # TODO: fix.\n",
    "            raise NotImplementedError(\"X and Y should be dataframes for now.\")\n",
    "    \n",
    "    # check if all data is numeric\n",
    "    numeric = data.apply(lambda s: pd.to_numeric(s, errors='coerce').isnull().all())\n",
    "    if numeric.sum() > 0:\n",
    "        fail = numeric.index[numeric==True].values\n",
    "        msg = \"Data in the following column(s) is not numeric! {0}\".format(str(fail))\n",
    "        raise ValueError(msg)\n",
    "    numeric.index[numeric==True].values\n",
    "    \n",
    "    # parse \"statistics\" arg:\n",
    "    stats_dict = dict(zip(['pillai','wilks','hotelling-lawly','roys'],\n",
    "                         [\"Pillai's trace\",\"Wilks' lambda\",\"Hotelling-Lawley trace\",\"Roy's greatest root\"]))\n",
    "    manv_statistic = stats_dict[statistic]\n",
    "    \n",
    "    \n",
    "    # initialize empty dataframes to store results from each round of parameter addition, and dropped params\n",
    "    cols=[\"formula\",\"ssr\",\"log-likelihood\",\"F statistic\",\"Pr>F\",\"AIC\"]\n",
    "    resDF = pd.DataFrame(np.zeros((1,len(cols))), index=[\"NullModel\"], columns=cols)\n",
    "    \n",
    "    dropDF = pd.DataFrame(columns=[\"colinear_var\",\"spearman_r\"])\n",
    "    \n",
    "    # initialize null model:\n",
    "    nullformula = \"{0} ~ 1\".format(\" + \".join(endog_names))\n",
    "    nullmod = statsmodels.multivariate.multivariate_ols._MultivariateOLS.from_formula(\n",
    "    formula=nullformula, data=data).fit()\n",
    "    # add to results df\n",
    "    resDF.loc[\"NullModel\"] = [nullmod.formula, nullmod.ssr(), nullmod.loglike, np.nan, np.nan, nullmod.aic]\n",
    "    \n",
    "    #import pdb; pdb.set_trace() #####\n",
    "    \n",
    "    params=exog_names\n",
    "    bestmodel=None\n",
    "    while len(params) > 0: # e.g. as long as there are parameters remaining\n",
    "        \n",
    "        # initialize empty df to store parameter data\n",
    "        cols=[\"paramter\",\"ssr\",\"statistic\",\"F-value\",\"Pr>F\"]\n",
    "        paramDF = pd.DataFrame(columns=cols, index=params)\n",
    "        \n",
    "        for param in params:\n",
    "            if bestmodel: # defined at end of first iteration\n",
    "                refmodel=bestmodel\n",
    "            else:\n",
    "                refmodel=nullmod\n",
    "            \n",
    "            # build + fit model with parameter:\n",
    "            formula = refmodel.formula + \" + {0}\".format(str(param))\n",
    "            testmod = statsmodels.multivariate.multivariate_ols._MultivariateOLS.from_formula(\n",
    "                formula=formula, data=data).fit()\n",
    "            \n",
    "            # run MANOVA to calculate p val for parameters\n",
    "            manv = manova.MANOVA.from_formula(testmod.formula, data=cars).mv_test()\n",
    "            Fval = manv.summary_frame.loc[idx[param, manv_statistic],\"F Value\"]\n",
    "            PrF = manv.summary_frame.loc[idx[param, manv_statistic],\"Pr > F\"]\n",
    "            \n",
    "            # add data to paramDF\n",
    "            paramDF.loc[param] = [param,testmod.ssr(),manv_statistic,Fval,PrF]\n",
    "            ########################## end of parameter addition ###########################\n",
    "        \n",
    "        # Choose best parameter:\n",
    "        if param_select == \"ssr\":\n",
    "            bestParam = paramDF.sort_values(by=\"ssr\", ascending=True).index[0]\n",
    "        elif param_select == \"pval\":\n",
    "            bestParam = paramDF.sort_values(by=\"Pr>F\", ascending=True).index[0]\n",
    "        else:\n",
    "            raise ValueError(\"'param_select' must be either 'ssr' or 'pval'. Got {0}\".format(str(param_select)))\n",
    "        \n",
    "        # initialize model with best parameter\n",
    "        formula = refmodel.formula + \" + {0}\".format(str(bestParam))\n",
    "        bestmodel = statsmodels.multivariate.multivariate_ols._MultivariateOLS.from_formula(\n",
    "                formula=formula, data=data).fit()\n",
    "            \n",
    "        # run F test versus refmodel:\n",
    "        # arg order: refmod, bestmod \n",
    "        fTest = statsmodels.multivariate.multivariate_ols.F_test_multivariate(refmodel, bestmodel)\n",
    "        \n",
    "        # add data to results df\n",
    "        resDF.loc[bestParam] = [bestmodel.formula, bestmodel.ssr(), bestmodel.loglike,\n",
    "                                fTest.F_statistic, fTest.prF, bestmodel.aic]\n",
    "        \n",
    "        # remove bestParam and any highly co-linear variables from remaining params:\n",
    "        corr = data[params].corr(method='spearman')\n",
    "        drop = list(corr[abs(corr[bestParam]) > 0.8].index) # this includes the term itself since r=1\n",
    "        [params.remove(d) for d in drop]\n",
    "        # note in resDF that parameter was dropped due to co-linearity\n",
    "        drop.remove(bestParam)\n",
    "        \n",
    "        for d in drop:\n",
    "            dropDF.loc[d,\"colinear_var\"] = bestParam\n",
    "            dropDF.loc[d,\"spearman_r\"] = corr.loc[d,bestParam]\n",
    "            #resDF.loc[d,\"formula\"] = \"dropped due to colinearity with {0}\".format(bestParam)\n",
    "    if verbose == True:\n",
    "        return resDF.sort_values(by=\"AIC\", ascending=True), dropDF\n",
    "    else:\n",
    "        return resDF.sort_values(by=\"AIC\", ascending=True)\n",
    "            \n",
    "#forward_stepwise(X=['mpg', 'cyl', 'disp', 'drat', 'wt', 'vs', 'am', 'gear','carb'], \n",
    "#                 Y=['qsec','hp'], data=cars)\n",
    "```"
   ]
  },
  {
   "cell_type": "code",
   "execution_count": 53,
   "metadata": {
    "pixiedust": {
     "displayParams": {}
    }
   },
   "outputs": [
    {
     "name": "stdout",
     "output_type": "stream",
     "text": [
      "starting for loop\n",
      "1\n",
      "2\n",
      "3\n",
      "4\n",
      "5\n",
      "starting for loop\n",
      "1\n",
      "2\n",
      "3\n",
      "4\n",
      "starting for loop\n",
      "1\n",
      "2\n",
      "3\n",
      "starting for loop\n",
      "1\n",
      "2\n",
      "starting for loop\n",
      "1\n"
     ]
    }
   ],
   "source": [
    "l=[1,2,3,4,5]\n",
    "while len(l) > 0:\n",
    "    print(\"starting for loop\")\n",
    "    for num in l:\n",
    "        print(num)\n",
    "    l.remove(max(l))\n",
    "    "
   ]
  },
  {
   "cell_type": "code",
   "execution_count": 54,
   "metadata": {
    "pixiedust": {
     "displayParams": {}
    }
   },
   "outputs": [
    {
     "name": "stdout",
     "output_type": "stream",
     "text": [
      "Iteration #1\n",
      "adding cyl to model\n",
      "dropped: mpg, disp, wt, vs\n",
      "-------------------- \n",
      "\n",
      "Iteration #2\n",
      "adding carb to model\n",
      "dropped: \n",
      "-------------------- \n",
      "\n",
      "Iteration #3\n",
      "adding gear to model\n",
      "dropped: am\n",
      "-------------------- \n",
      "\n",
      "Iteration #4\n",
      "adding drat to model\n",
      "dropped: \n",
      "-------------------- \n",
      "\n"
     ]
    },
    {
     "data": {
      "text/html": [
       "<div>\n",
       "<style scoped>\n",
       "    .dataframe tbody tr th:only-of-type {\n",
       "        vertical-align: middle;\n",
       "    }\n",
       "\n",
       "    .dataframe tbody tr th {\n",
       "        vertical-align: top;\n",
       "    }\n",
       "\n",
       "    .dataframe thead th {\n",
       "        text-align: right;\n",
       "    }\n",
       "</style>\n",
       "<table border=\"1\" class=\"dataframe\">\n",
       "  <thead>\n",
       "    <tr style=\"text-align: right;\">\n",
       "      <th></th>\n",
       "      <th>formula</th>\n",
       "      <th>param_Pr&gt;F</th>\n",
       "      <th>ssr</th>\n",
       "      <th>log-likelihood</th>\n",
       "      <th>df_model</th>\n",
       "      <th>F statistic</th>\n",
       "      <th>Pr&gt;F</th>\n",
       "      <th>AIC</th>\n",
       "    </tr>\n",
       "  </thead>\n",
       "  <tbody>\n",
       "    <tr>\n",
       "      <th>carb</th>\n",
       "      <td>cyl + carb</td>\n",
       "      <td>1.045261e-04</td>\n",
       "      <td>12630.574367</td>\n",
       "      <td>-141.056270</td>\n",
       "      <td>3.0</td>\n",
       "      <td>22.438894</td>\n",
       "      <td>5.267142e-05</td>\n",
       "      <td>288.112539</td>\n",
       "    </tr>\n",
       "    <tr>\n",
       "      <th>gear</th>\n",
       "      <td>cyl + carb + gear</td>\n",
       "      <td>2.466166e-03</td>\n",
       "      <td>12024.929622</td>\n",
       "      <td>-140.270054</td>\n",
       "      <td>4.0</td>\n",
       "      <td>1.410241</td>\n",
       "      <td>2.449932e-01</td>\n",
       "      <td>288.540109</td>\n",
       "    </tr>\n",
       "    <tr>\n",
       "      <th>drat</th>\n",
       "      <td>cyl + carb + gear + drat</td>\n",
       "      <td>3.576686e-01</td>\n",
       "      <td>12009.092108</td>\n",
       "      <td>-140.248968</td>\n",
       "      <td>5.0</td>\n",
       "      <td>0.035607</td>\n",
       "      <td>8.517397e-01</td>\n",
       "      <td>290.497935</td>\n",
       "    </tr>\n",
       "    <tr>\n",
       "      <th>cyl</th>\n",
       "      <td>cyl</td>\n",
       "      <td>3.664634e-08</td>\n",
       "      <td>22403.544024</td>\n",
       "      <td>-150.225850</td>\n",
       "      <td>2.0</td>\n",
       "      <td>67.635800</td>\n",
       "      <td>3.518220e-09</td>\n",
       "      <td>304.451699</td>\n",
       "    </tr>\n",
       "    <tr>\n",
       "      <th>NullModel</th>\n",
       "      <td></td>\n",
       "      <td>NaN</td>\n",
       "      <td>72912.931575</td>\n",
       "      <td>-169.106599</td>\n",
       "      <td>1.0</td>\n",
       "      <td>NaN</td>\n",
       "      <td>NaN</td>\n",
       "      <td>340.213199</td>\n",
       "    </tr>\n",
       "  </tbody>\n",
       "</table>\n",
       "</div>"
      ],
      "text/plain": [
       "                             formula    param_Pr>F           ssr  \\\n",
       "carb                      cyl + carb  1.045261e-04  12630.574367   \n",
       "gear               cyl + carb + gear  2.466166e-03  12024.929622   \n",
       "drat        cyl + carb + gear + drat  3.576686e-01  12009.092108   \n",
       "cyl                              cyl  3.664634e-08  22403.544024   \n",
       "NullModel                                      NaN  72912.931575   \n",
       "\n",
       "           log-likelihood  df_model  F statistic          Pr>F         AIC  \n",
       "carb          -141.056270       3.0    22.438894  5.267142e-05  288.112539  \n",
       "gear          -140.270054       4.0     1.410241  2.449932e-01  288.540109  \n",
       "drat          -140.248968       5.0     0.035607  8.517397e-01  290.497935  \n",
       "cyl           -150.225850       2.0    67.635800  3.518220e-09  304.451699  \n",
       "NullModel     -169.106599       1.0          NaN           NaN  340.213199  "
      ]
     },
     "execution_count": 54,
     "metadata": {},
     "output_type": "execute_result"
    }
   ],
   "source": [
    "import statsmodels.multivariate.modelselection\n",
    "res, dropped = statsmodels.multivariate.modelselection.forward_stepwise(\n",
    "    X=['mpg', 'cyl', 'disp', 'drat', 'wt', 'vs', 'am', 'gear','carb'], \n",
    "                 Y=['qsec','hp'], data=cars, return_dropped=True, verbose=True)\n",
    "res"
   ]
  },
  {
   "cell_type": "code",
   "execution_count": null,
   "metadata": {},
   "outputs": [],
   "source": []
  }
 ],
 "metadata": {
  "kernelspec": {
   "display_name": "Python 3",
   "language": "python",
   "name": "python3"
  },
  "language_info": {
   "codemirror_mode": {
    "name": "ipython",
    "version": 3
   },
   "file_extension": ".py",
   "mimetype": "text/x-python",
   "name": "python",
   "nbconvert_exporter": "python",
   "pygments_lexer": "ipython3",
   "version": "3.8.5"
  },
  "toc": {
   "base_numbering": 1,
   "nav_menu": {},
   "number_sections": true,
   "sideBar": true,
   "skip_h1_title": true,
   "title_cell": "Table of Contents",
   "title_sidebar": "Contents",
   "toc_cell": true,
   "toc_position": {
    "height": "calc(100% - 180px)",
    "left": "10px",
    "top": "150px",
    "width": "284px"
   },
   "toc_section_display": true,
   "toc_window_display": true
  }
 },
 "nbformat": 4,
 "nbformat_minor": 4
}
